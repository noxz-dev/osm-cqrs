{
 "cells": [
  {
   "cell_type": "markdown",
   "metadata": {
    "pycharm": {
     "name": "#%% md\n"
    }
   },
   "source": [
    "# OSM-CQRS Metrics\n",
    "\n",
    "We collected different statistics from our implementation which was running one week on our server. We documented performance of the Changeset-Watcher (CSW) and the three different services."
   ]
  },
  {
   "cell_type": "markdown",
   "metadata": {
    "pycharm": {
     "name": "#%% md\n"
    }
   },
   "source": [
    "## CSW results"
   ]
  },
  {
   "cell_type": "code",
   "execution_count": 1,
   "metadata": {
    "pycharm": {
     "name": "#%%\n"
    }
   },
   "outputs": [],
   "source": [
    "import matplotlib.pyplot as plt\n",
    "import pandas as pd\n",
    "\n",
    "all_dataframe = pd.read_csv(\"./data/all.statistics.csv\")\n",
    "routing_dataframe = pd.read_csv(\"./data/routing.statistics.csv\")\n",
    "search_dataframe = pd.read_csv(\"./data/search.statistics.csv\")\n",
    "\n",
    "statistics = {\n",
    "    \"All\": all_dataframe,\n",
    "    \"Routing\": routing_dataframe,\n",
    "    \"Search\": search_dataframe\n",
    "}\n",
    "\n",
    "NUM_OF_INCOMING_ELEMENTS = 'number of incoming elements (reloaded + change-file)'\n",
    "DURATION_FOR_SPECIFIC_FILTERING = 'duration for specific-preprocessing (in ms)'\n",
    "NUM_OF_PUBLISHED_ELEMENTS = 'number of published elements'\n",
    "DURATION_COMPLETE = 'duration for preprocessing (in ms)'\n",
    "NUM_OF_RELOADED_NODES = 'number of reloaded nodes'"
   ]
  },
  {
   "cell_type": "code",
   "execution_count": 2,
   "metadata": {
    "pycharm": {
     "name": "#%%\n"
    }
   },
   "outputs": [],
   "source": [
    "from typing import Any\n",
    "\n",
    "\n",
    "def analysis_index(statistic: pd.DataFrame, col: str, index_func: str) -> (Any, Any):\n",
    "    \"\"\"\n",
    "    Wrapper function for running methods on dataframes that return an index\n",
    "\n",
    "    :param statistic: Pandas dataframe\n",
    "    :param col: Colum to analyse\n",
    "    :param index_func: Function name that returns an index\n",
    "    :return: the value calculated and the row of the index\n",
    "    \"\"\"\n",
    "    func = getattr(statistic[col], index_func)\n",
    "    index = func()\n",
    "    row = statistic.iloc[index]\n",
    "    value = row[col]\n",
    "    return value, row"
   ]
  },
  {
   "cell_type": "code",
   "execution_count": 3,
   "metadata": {
    "pycharm": {
     "name": "#%%\n"
    }
   },
   "outputs": [],
   "source": [
    "from typing import Callable\n",
    "\n",
    "\n",
    "def run_analysis(analysis: Callable, analysis_header: str) -> None:\n",
    "    \"\"\"\n",
    "    Prints the result for all statistics for the given analysis\n",
    "\n",
    "    :param analysis: Analysis function to run\n",
    "    :param analysis_header: Analysis header to print\n",
    "    \"\"\"\n",
    "    print(analysis_header + ':')\n",
    "    for name, statistic in statistics.items():\n",
    "        value = analysis(statistic)\n",
    "        if type(value) is tuple:\n",
    "            print(f\"{name}: {str(value[0])}\")\n",
    "            for val in value[1:]:\n",
    "                print(val)\n",
    "            print(\"----------\")\n",
    "        else:\n",
    "            print(f\"{name}:\".ljust(20), value)"
   ]
  },
  {
   "cell_type": "markdown",
   "metadata": {
    "pycharm": {
     "name": "#%% md\n"
    }
   },
   "source": [
    "### Number of events received"
   ]
  },
  {
   "cell_type": "code",
   "execution_count": 4,
   "metadata": {
    "pycharm": {
     "name": "#%%\n"
    }
   },
   "outputs": [
    {
     "name": "stdout",
     "output_type": "stream",
     "text": [
      "Amount of events received:\n",
      "All:                 9951\n",
      "Routing:             9951\n",
      "Search:              9951\n"
     ]
    }
   ],
   "source": [
    "def num_of_rows(statistic: pd.DataFrame):\n",
    "    return len(statistic)\n",
    "\n",
    "run_analysis(num_of_rows, 'Amount of events received')"
   ]
  },
  {
   "cell_type": "markdown",
   "metadata": {
    "pycharm": {
     "name": "#%% md\n"
    }
   },
   "source": [
    "### Sum of elements received"
   ]
  },
  {
   "cell_type": "code",
   "execution_count": 5,
   "metadata": {
    "pycharm": {
     "name": "#%%\n"
    }
   },
   "outputs": [
    {
     "data": {
      "text/plain": [
       "49780431"
      ]
     },
     "execution_count": 5,
     "metadata": {},
     "output_type": "execute_result"
    }
   ],
   "source": [
    "sum_incoming = statistics[\"All\"][NUM_OF_INCOMING_ELEMENTS].sum()\n",
    "sum_incoming"
   ]
  },
  {
   "cell_type": "markdown",
   "metadata": {
    "pycharm": {
     "name": "#%% md\n"
    }
   },
   "source": [
    "### Sum of elements published to routing subject"
   ]
  },
  {
   "cell_type": "code",
   "execution_count": 6,
   "metadata": {
    "pycharm": {
     "name": "#%%\n"
    }
   },
   "outputs": [
    {
     "data": {
      "text/plain": [
       "15987375"
      ]
     },
     "execution_count": 6,
     "metadata": {},
     "output_type": "execute_result"
    }
   ],
   "source": [
    "sum_routing_published = statistics[\"Routing\"][NUM_OF_PUBLISHED_ELEMENTS].sum()\n",
    "sum_routing_published"
   ]
  },
  {
   "cell_type": "markdown",
   "metadata": {
    "pycharm": {
     "name": "#%% md\n"
    }
   },
   "source": [
    "### Percentage of all elements published to routing subject"
   ]
  },
  {
   "cell_type": "code",
   "execution_count": 7,
   "metadata": {
    "pycharm": {
     "name": "#%%\n"
    }
   },
   "outputs": [
    {
     "data": {
      "text/plain": [
       "0.3211578260541778"
      ]
     },
     "execution_count": 7,
     "metadata": {},
     "output_type": "execute_result"
    }
   ],
   "source": [
    "percentage_routing = sum_routing_published / sum_incoming\n",
    "percentage_routing"
   ]
  },
  {
   "cell_type": "markdown",
   "metadata": {
    "pycharm": {
     "name": "#%% md\n"
    }
   },
   "source": [
    "### Sum of elements published to search subject"
   ]
  },
  {
   "cell_type": "code",
   "execution_count": 8,
   "metadata": {
    "pycharm": {
     "name": "#%%\n"
    }
   },
   "outputs": [
    {
     "data": {
      "text/plain": [
       "779513"
      ]
     },
     "execution_count": 8,
     "metadata": {},
     "output_type": "execute_result"
    }
   ],
   "source": [
    "sum_search = statistics[\"Search\"][NUM_OF_PUBLISHED_ELEMENTS].sum()\n",
    "sum_search"
   ]
  },
  {
   "cell_type": "markdown",
   "metadata": {
    "pycharm": {
     "name": "#%% md\n"
    }
   },
   "source": [
    "### Percentage of all elements published to search subject"
   ]
  },
  {
   "cell_type": "code",
   "execution_count": 9,
   "metadata": {
    "pycharm": {
     "name": "#%%\n"
    }
   },
   "outputs": [
    {
     "data": {
      "text/plain": [
       "0.01565902472801009"
      ]
     },
     "execution_count": 9,
     "metadata": {},
     "output_type": "execute_result"
    }
   ],
   "source": [
    "percentage_search = sum_search / sum_incoming\n",
    "percentage_search"
   ]
  },
  {
   "cell_type": "markdown",
   "metadata": {
    "pycharm": {
     "name": "#%% md\n"
    }
   },
   "source": [
    "### Maximum number of elements in downloaded changeset"
   ]
  },
  {
   "cell_type": "code",
   "execution_count": 10,
   "metadata": {
    "pycharm": {
     "name": "#%%\n"
    }
   },
   "outputs": [
    {
     "name": "stdout",
     "output_type": "stream",
     "text": [
      "Maximum number of elements in downloaded changeset:\n",
      "All: 209676\n",
      "ID                                                      2022-04-06T23:35:30Z\n",
      "number of incoming elements (reloaded + change-file)                  209676\n",
      "number of reloaded nodes                                              153283\n",
      "duration for preprocessing (in ms)                                     31102\n",
      "number of published elements                                          209676\n",
      "duration for specific-preprocessing (in ms)                             1736\n",
      "Name: 1762, dtype: object\n",
      "----------\n",
      "Routing: 209676\n",
      "ID                                                      2022-04-06T23:35:29Z\n",
      "number of incoming elements (reloaded + change-file)                  209676\n",
      "number of reloaded nodes                                              153283\n",
      "duration for preprocessing (in ms)                                     29408\n",
      "number of published elements                                            1929\n",
      "duration for specific-preprocessing (in ms)                               42\n",
      "Name: 1762, dtype: object\n",
      "----------\n",
      "Search: 209676\n",
      "ID                                                      2022-04-06T23:35:29Z\n",
      "number of incoming elements (reloaded + change-file)                  209676\n",
      "number of reloaded nodes                                              153283\n",
      "duration for preprocessing (in ms)                                     29431\n",
      "number of published elements                                            2606\n",
      "duration for specific-preprocessing (in ms)                               65\n",
      "Name: 1762, dtype: object\n",
      "----------\n"
     ]
    }
   ],
   "source": [
    "def get_max_num_of_elements(statistic: pd.DataFrame):\n",
    "    return analysis_index(statistic, NUM_OF_INCOMING_ELEMENTS, 'idxmax')\n",
    "\n",
    "run_analysis(get_max_num_of_elements, 'Maximum number of elements in downloaded changeset')"
   ]
  },
  {
   "cell_type": "markdown",
   "metadata": {
    "pycharm": {
     "name": "#%% md\n"
    }
   },
   "source": [
    "### Minimum number of elements in downloaded changeset"
   ]
  },
  {
   "cell_type": "code",
   "execution_count": 11,
   "metadata": {
    "pycharm": {
     "name": "#%%\n"
    }
   },
   "outputs": [
    {
     "name": "stdout",
     "output_type": "stream",
     "text": [
      "Minimum number of elements in downloaded changeset:\n",
      "All: 21\n",
      "ID                                                      2022-04-10T00:44:19Z\n",
      "number of incoming elements (reloaded + change-file)                      21\n",
      "number of reloaded nodes                                                  18\n",
      "duration for preprocessing (in ms)                                      2280\n",
      "number of published elements                                              21\n",
      "duration for specific-preprocessing (in ms)                                2\n",
      "Name: 6092, dtype: object\n",
      "----------\n",
      "Routing: 21\n",
      "ID                                                      2022-04-10T00:44:19Z\n",
      "number of incoming elements (reloaded + change-file)                      21\n",
      "number of reloaded nodes                                                  18\n",
      "duration for preprocessing (in ms)                                      2280\n",
      "number of published elements                                               5\n",
      "duration for specific-preprocessing (in ms)                                1\n",
      "Name: 6092, dtype: object\n",
      "----------\n",
      "Search: 21\n",
      "ID                                                      2022-04-10T00:44:19Z\n",
      "number of incoming elements (reloaded + change-file)                      21\n",
      "number of reloaded nodes                                                  18\n",
      "duration for preprocessing (in ms)                                      2278\n",
      "number of published elements                                               1\n",
      "duration for specific-preprocessing (in ms)                                0\n",
      "Name: 6092, dtype: object\n",
      "----------\n"
     ]
    }
   ],
   "source": [
    "def get_min_num_of_elements(statistic: pd.DataFrame):\n",
    "    return analysis_index(statistic, NUM_OF_INCOMING_ELEMENTS, 'idxmin')\n",
    "\n",
    "run_analysis(get_min_num_of_elements, 'Minimum number of elements in downloaded changeset')"
   ]
  },
  {
   "cell_type": "markdown",
   "metadata": {
    "pycharm": {
     "name": "#%% md\n"
    }
   },
   "source": [
    "### Mean number of elements in downloaded changeset"
   ]
  },
  {
   "cell_type": "code",
   "execution_count": 12,
   "metadata": {
    "pycharm": {
     "name": "#%%\n"
    }
   },
   "outputs": [
    {
     "name": "stdout",
     "output_type": "stream",
     "text": [
      "Mean number of elements in downloaded changeset:\n",
      "All:                 5002.555622550497\n",
      "Routing:             5002.555622550497\n",
      "Search:              5002.555622550497\n"
     ]
    }
   ],
   "source": [
    "def get_mean_num_of_elements(statistic: pd.DataFrame):\n",
    "    return statistic[NUM_OF_INCOMING_ELEMENTS].mean()\n",
    "\n",
    "run_analysis(get_mean_num_of_elements, 'Mean number of elements in downloaded changeset')"
   ]
  },
  {
   "cell_type": "markdown",
   "metadata": {
    "pycharm": {
     "name": "#%% md\n"
    }
   },
   "source": [
    "### Median number of elements in downloaded changeset"
   ]
  },
  {
   "cell_type": "code",
   "execution_count": 13,
   "metadata": {
    "pycharm": {
     "name": "#%%\n"
    }
   },
   "outputs": [
    {
     "name": "stdout",
     "output_type": "stream",
     "text": [
      "Median number of elements in downloaded changeset:\n",
      "All:                 4224.0\n",
      "Routing:             4224.0\n",
      "Search:              4224.0\n"
     ]
    }
   ],
   "source": [
    "def get_median_num_of_elements(statistic: pd.DataFrame):\n",
    "    return statistic[NUM_OF_INCOMING_ELEMENTS].median()\n",
    "\n",
    "run_analysis(get_median_num_of_elements, 'Median number of elements in downloaded changeset')"
   ]
  },
  {
   "cell_type": "markdown",
   "metadata": {
    "pycharm": {
     "name": "#%% md\n"
    }
   },
   "source": [
    "### Maximum number of published elements"
   ]
  },
  {
   "cell_type": "code",
   "execution_count": 14,
   "metadata": {
    "pycharm": {
     "name": "#%%\n"
    }
   },
   "outputs": [
    {
     "name": "stdout",
     "output_type": "stream",
     "text": [
      "Maximum number of published elements:\n",
      "All:                 209676\n",
      "Routing:             25192\n",
      "Search:              37252\n"
     ]
    }
   ],
   "source": [
    "def get_max_num_published_elements(statistic: pd.DataFrame):\n",
    "    return statistic[NUM_OF_PUBLISHED_ELEMENTS].max()\n",
    "\n",
    "run_analysis(get_max_num_published_elements, 'Maximum number of published elements')"
   ]
  },
  {
   "cell_type": "markdown",
   "metadata": {
    "pycharm": {
     "name": "#%% md\n"
    }
   },
   "source": [
    "### Minimum number of published elements"
   ]
  },
  {
   "cell_type": "code",
   "execution_count": 15,
   "metadata": {
    "pycharm": {
     "name": "#%%\n"
    }
   },
   "outputs": [
    {
     "name": "stdout",
     "output_type": "stream",
     "text": [
      "Minimum number of published elements:\n",
      "All:                 21\n",
      "Routing:             0\n",
      "Search:              0\n"
     ]
    }
   ],
   "source": [
    "def get_min_num_published_elements(statistic: pd.DataFrame):\n",
    "    return statistic[NUM_OF_PUBLISHED_ELEMENTS].min()\n",
    "\n",
    "run_analysis(get_min_num_published_elements, 'Minimum number of published elements')"
   ]
  },
  {
   "cell_type": "markdown",
   "metadata": {
    "pycharm": {
     "name": "#%% md\n"
    }
   },
   "source": [
    "### Mean number of published elements"
   ]
  },
  {
   "cell_type": "code",
   "execution_count": 16,
   "metadata": {
    "pycharm": {
     "name": "#%%\n"
    }
   },
   "outputs": [
    {
     "name": "stdout",
     "output_type": "stream",
     "text": [
      "Mean number of published elements:\n",
      "All:                 5002.555622550497\n",
      "Routing:             1606.6098884534217\n",
      "Search:              78.33514219676414\n"
     ]
    }
   ],
   "source": [
    "def get_mean_num_published_elements(statistic: pd.DataFrame):\n",
    "    return statistic[NUM_OF_PUBLISHED_ELEMENTS].mean()\n",
    "\n",
    "run_analysis(get_mean_num_published_elements, 'Mean number of published elements')"
   ]
  },
  {
   "cell_type": "markdown",
   "metadata": {
    "pycharm": {
     "name": "#%% md\n"
    }
   },
   "source": [
    "### Median number of published elements"
   ]
  },
  {
   "cell_type": "code",
   "execution_count": 17,
   "metadata": {
    "pycharm": {
     "name": "#%%\n"
    }
   },
   "outputs": [
    {
     "name": "stdout",
     "output_type": "stream",
     "text": [
      "Median number of published elements:\n",
      "All:                 4224.0\n",
      "Routing:             1274.0\n",
      "Search:              27.0\n"
     ]
    }
   ],
   "source": [
    "def get_median_num_published_elements(statistic: pd.DataFrame):\n",
    "    return statistic[NUM_OF_PUBLISHED_ELEMENTS].median()\n",
    "\n",
    "run_analysis(get_median_num_published_elements, 'Median number of published elements')"
   ]
  },
  {
   "cell_type": "markdown",
   "metadata": {
    "pycharm": {
     "name": "#%% md\n"
    }
   },
   "source": [
    "### Maximum difference between incoming and published elements"
   ]
  },
  {
   "cell_type": "code",
   "execution_count": 18,
   "metadata": {
    "pycharm": {
     "name": "#%%\n"
    }
   },
   "outputs": [
    {
     "name": "stdout",
     "output_type": "stream",
     "text": [
      "Maximum diff between incoming and published elements:\n",
      "All: 0\n",
      "ID                                                      2022-04-05T17:50:44Z\n",
      "number of incoming elements (reloaded + change-file)                    2700\n",
      "number of reloaded nodes                                                 992\n",
      "duration for preprocessing (in ms)                                      3250\n",
      "number of published elements                                            2700\n",
      "duration for specific-preprocessing (in ms)                               89\n",
      "Name: 0, dtype: object\n",
      "----------\n",
      "Routing: 207747\n",
      "ID                                                      2022-04-06T23:35:29Z\n",
      "number of incoming elements (reloaded + change-file)                  209676\n",
      "number of reloaded nodes                                              153283\n",
      "duration for preprocessing (in ms)                                     29408\n",
      "number of published elements                                            1929\n",
      "duration for specific-preprocessing (in ms)                               42\n",
      "Name: 1762, dtype: object\n",
      "----------\n",
      "Search: 207070\n",
      "ID                                                      2022-04-06T23:35:29Z\n",
      "number of incoming elements (reloaded + change-file)                  209676\n",
      "number of reloaded nodes                                              153283\n",
      "duration for preprocessing (in ms)                                     29431\n",
      "number of published elements                                            2606\n",
      "duration for specific-preprocessing (in ms)                               65\n",
      "Name: 1762, dtype: object\n",
      "----------\n"
     ]
    }
   ],
   "source": [
    "def get_max_diff_incoming_published_elements(statistic: pd.DataFrame):\n",
    "    index = (statistic[NUM_OF_INCOMING_ELEMENTS] - statistic[NUM_OF_PUBLISHED_ELEMENTS]).idxmax()\n",
    "    row = statistic.iloc[index]\n",
    "    value = row[NUM_OF_INCOMING_ELEMENTS] - row[NUM_OF_PUBLISHED_ELEMENTS]\n",
    "    return value, row\n",
    "\n",
    "run_analysis(get_max_diff_incoming_published_elements, 'Maximum diff between incoming and published elements')"
   ]
  },
  {
   "cell_type": "markdown",
   "metadata": {
    "pycharm": {
     "name": "#%% md\n"
    }
   },
   "source": [
    "### Minimum difference between incoming and published elements"
   ]
  },
  {
   "cell_type": "code",
   "execution_count": 19,
   "metadata": {
    "pycharm": {
     "name": "#%%\n"
    }
   },
   "outputs": [
    {
     "name": "stdout",
     "output_type": "stream",
     "text": [
      "Minimum diff between incoming and published elements:\n",
      "All: 0\n",
      "ID                                                      2022-04-05T17:50:44Z\n",
      "number of incoming elements (reloaded + change-file)                    2700\n",
      "number of reloaded nodes                                                 992\n",
      "duration for preprocessing (in ms)                                      3250\n",
      "number of published elements                                            2700\n",
      "duration for specific-preprocessing (in ms)                               89\n",
      "Name: 0, dtype: object\n",
      "----------\n",
      "Routing: 0\n",
      "ID                                                      2022-04-09T03:48:45Z\n",
      "number of incoming elements (reloaded + change-file)                      29\n",
      "number of reloaded nodes                                                  25\n",
      "duration for preprocessing (in ms)                                      2041\n",
      "number of published elements                                              29\n",
      "duration for specific-preprocessing (in ms)                                4\n",
      "Name: 4854, dtype: object\n",
      "----------\n",
      "Search: 20\n",
      "ID                                                      2022-04-10T00:44:19Z\n",
      "number of incoming elements (reloaded + change-file)                      21\n",
      "number of reloaded nodes                                                  18\n",
      "duration for preprocessing (in ms)                                      2278\n",
      "number of published elements                                               1\n",
      "duration for specific-preprocessing (in ms)                                0\n",
      "Name: 6092, dtype: object\n",
      "----------\n"
     ]
    }
   ],
   "source": [
    "def get_min_diff_incoming_published_elements(statistic: pd.DataFrame):\n",
    "    index = (statistic[NUM_OF_INCOMING_ELEMENTS] - statistic[NUM_OF_PUBLISHED_ELEMENTS]).idxmin()\n",
    "    row = statistic.iloc[index]\n",
    "    value = row[NUM_OF_INCOMING_ELEMENTS] - row[NUM_OF_PUBLISHED_ELEMENTS]\n",
    "    return value, row\n",
    "\n",
    "run_analysis(get_min_diff_incoming_published_elements, 'Minimum diff between incoming and published elements')"
   ]
  },
  {
   "cell_type": "markdown",
   "metadata": {
    "pycharm": {
     "name": "#%% md\n"
    }
   },
   "source": [
    "### Mean difference between incoming and published elements"
   ]
  },
  {
   "cell_type": "code",
   "execution_count": 20,
   "metadata": {
    "pycharm": {
     "name": "#%%\n"
    }
   },
   "outputs": [
    {
     "name": "stdout",
     "output_type": "stream",
     "text": [
      "Mean diff between incoming and published elements:\n",
      "All:                 0.0\n",
      "Routing:             3395.9457340970757\n",
      "Search:              4924.220480353733\n"
     ]
    }
   ],
   "source": [
    "def get_mean_diff_incoming_published_elements(statistic: pd.DataFrame):\n",
    "    return (statistic[NUM_OF_INCOMING_ELEMENTS] - statistic[NUM_OF_PUBLISHED_ELEMENTS]).mean()\n",
    "\n",
    "run_analysis(get_mean_diff_incoming_published_elements, 'Mean diff between incoming and published elements')"
   ]
  },
  {
   "cell_type": "markdown",
   "metadata": {
    "pycharm": {
     "name": "#%% md\n"
    }
   },
   "source": [
    "### Median difference between incoming and published elements\n"
   ]
  },
  {
   "cell_type": "code",
   "execution_count": 21,
   "metadata": {
    "pycharm": {
     "name": "#%%\n"
    }
   },
   "outputs": [
    {
     "name": "stdout",
     "output_type": "stream",
     "text": [
      "Median diff between incoming and published elements:\n",
      "All:                 0.0\n",
      "Routing:             2633.0\n",
      "Search:              4163.0\n"
     ]
    }
   ],
   "source": [
    "def get_median_diff_incoming_published_elements(statistic: pd.DataFrame):\n",
    "    return (statistic[NUM_OF_INCOMING_ELEMENTS] - statistic[NUM_OF_PUBLISHED_ELEMENTS]).median()\n",
    "\n",
    "run_analysis(get_median_diff_incoming_published_elements, 'Median diff between incoming and published elements')"
   ]
  },
  {
   "cell_type": "markdown",
   "metadata": {
    "pycharm": {
     "name": "#%% md\n"
    }
   },
   "source": [
    "### Maximum duration for complete filtering and reloading"
   ]
  },
  {
   "cell_type": "code",
   "execution_count": 22,
   "metadata": {
    "pycharm": {
     "name": "#%%\n"
    }
   },
   "outputs": [
    {
     "name": "stdout",
     "output_type": "stream",
     "text": [
      "Maximum duration for filtering and reloading elements:\n",
      "All: 43359\n",
      "ID                                                      2022-04-06T09:49:45Z\n",
      "number of incoming elements (reloaded + change-file)                    6099\n",
      "number of reloaded nodes                                                3046\n",
      "duration for preprocessing (in ms)                                     43359\n",
      "number of published elements                                            6099\n",
      "duration for specific-preprocessing (in ms)                               63\n",
      "Name: 947, dtype: object\n",
      "----------\n",
      "Routing: 43320\n",
      "ID                                                      2022-04-06T09:49:45Z\n",
      "number of incoming elements (reloaded + change-file)                    6099\n",
      "number of reloaded nodes                                                3046\n",
      "duration for preprocessing (in ms)                                     43320\n",
      "number of published elements                                            1559\n",
      "duration for specific-preprocessing (in ms)                               27\n",
      "Name: 947, dtype: object\n",
      "----------\n",
      "Search: 123035\n",
      "ID                                                      2022-04-09T15:54:40Z\n",
      "number of incoming elements (reloaded + change-file)                  133726\n",
      "number of reloaded nodes                                              113485\n",
      "duration for preprocessing (in ms)                                    123035\n",
      "number of published elements                                           37252\n",
      "duration for specific-preprocessing (in ms)                           107862\n",
      "Name: 5568, dtype: object\n",
      "----------\n"
     ]
    }
   ],
   "source": [
    "def get_maximum_duration_filtering(statistic: pd.DataFrame):\n",
    "    return analysis_index(statistic, DURATION_COMPLETE, 'idxmax')\n",
    "\n",
    "run_analysis(get_maximum_duration_filtering, 'Maximum duration for filtering and reloading elements')"
   ]
  },
  {
   "cell_type": "markdown",
   "metadata": {
    "pycharm": {
     "name": "#%% md\n"
    }
   },
   "source": [
    "### Minimum duration for complete filtering and reloading"
   ]
  },
  {
   "cell_type": "code",
   "execution_count": 23,
   "metadata": {
    "pycharm": {
     "name": "#%%\n"
    }
   },
   "outputs": [
    {
     "name": "stdout",
     "output_type": "stream",
     "text": [
      "Minimum duration for filtering and reloading elements:\n",
      "All: 43\n",
      "ID                                                      2022-04-06T01:57:14Z\n",
      "number of incoming elements (reloaded + change-file)                      56\n",
      "number of reloaded nodes                                                   0\n",
      "duration for preprocessing (in ms)                                        43\n",
      "number of published elements                                              56\n",
      "duration for specific-preprocessing (in ms)                                4\n",
      "Name: 481, dtype: object\n",
      "----------\n",
      "Routing: 41\n",
      "ID                                                      2022-04-06T01:57:14Z\n",
      "number of incoming elements (reloaded + change-file)                      56\n",
      "number of reloaded nodes                                                   0\n",
      "duration for preprocessing (in ms)                                        41\n",
      "number of published elements                                              10\n",
      "duration for specific-preprocessing (in ms)                                2\n",
      "Name: 481, dtype: object\n",
      "----------\n",
      "Search: 40\n",
      "ID                                                      2022-04-06T01:57:14Z\n",
      "number of incoming elements (reloaded + change-file)                      56\n",
      "number of reloaded nodes                                                   0\n",
      "duration for preprocessing (in ms)                                        40\n",
      "number of published elements                                              24\n",
      "duration for specific-preprocessing (in ms)                                1\n",
      "Name: 481, dtype: object\n",
      "----------\n"
     ]
    }
   ],
   "source": [
    "def get_minimum_duration_filtering(statistic: pd.DataFrame):\n",
    "    return analysis_index(statistic, DURATION_COMPLETE, 'idxmin')\n",
    "\n",
    "run_analysis(get_minimum_duration_filtering, 'Minimum duration for filtering and reloading elements')"
   ]
  },
  {
   "cell_type": "markdown",
   "metadata": {
    "pycharm": {
     "name": "#%% md\n"
    }
   },
   "source": [
    "### Mean duration for complete filtering and reloading"
   ]
  },
  {
   "cell_type": "code",
   "execution_count": 24,
   "metadata": {
    "pycharm": {
     "name": "#%%\n"
    }
   },
   "outputs": [
    {
     "name": "stdout",
     "output_type": "stream",
     "text": [
      "Mean duration for filtering and reloading elements:\n",
      "All:                 3903.2198773992563\n",
      "Routing:             3866.064214651794\n",
      "Search:              3854.091347603256\n"
     ]
    }
   ],
   "source": [
    "def get_mean_duration_filtering(statistic: pd.DataFrame):\n",
    "    return statistic[DURATION_COMPLETE].mean()\n",
    "\n",
    "run_analysis(get_mean_duration_filtering, 'Mean duration for filtering and reloading elements')"
   ]
  },
  {
   "cell_type": "markdown",
   "metadata": {
    "pycharm": {
     "name": "#%% md\n"
    }
   },
   "source": [
    "### Median duration for complete filtering and reloading"
   ]
  },
  {
   "cell_type": "code",
   "execution_count": 25,
   "metadata": {
    "pycharm": {
     "name": "#%%\n"
    }
   },
   "outputs": [
    {
     "name": "stdout",
     "output_type": "stream",
     "text": [
      "Mean duration for filtering and reloading elements:\n",
      "All:                 3207.0\n",
      "Routing:             3175.0\n",
      "Search:              3148.0\n"
     ]
    }
   ],
   "source": [
    "def get_mean_duration_filtering(statistic: pd.DataFrame):\n",
    "    return statistic[DURATION_COMPLETE].median()\n",
    "\n",
    "run_analysis(get_mean_duration_filtering, 'Mean duration for filtering and reloading elements')"
   ]
  },
  {
   "cell_type": "markdown",
   "metadata": {
    "pycharm": {
     "name": "#%% md\n"
    }
   },
   "source": [
    "### Maximum duration for specific filtering"
   ]
  },
  {
   "cell_type": "code",
   "execution_count": 26,
   "metadata": {
    "pycharm": {
     "name": "#%%\n"
    }
   },
   "outputs": [
    {
     "name": "stdout",
     "output_type": "stream",
     "text": [
      "Maximum duration for specific filtering:\n",
      "All: 12627\n",
      "ID                                                      2022-04-12T09:21:05Z\n",
      "number of incoming elements (reloaded + change-file)                    7736\n",
      "number of reloaded nodes                                                4300\n",
      "duration for preprocessing (in ms)                                     15794\n",
      "number of published elements                                            7736\n",
      "duration for specific-preprocessing (in ms)                            12627\n",
      "Name: 9444, dtype: object\n",
      "----------\n",
      "Routing: 6626\n",
      "ID                                                      2022-04-10T08:39:30Z\n",
      "number of incoming elements (reloaded + change-file)                    4505\n",
      "number of reloaded nodes                                                3229\n",
      "duration for preprocessing (in ms)                                      9273\n",
      "number of published elements                                            1915\n",
      "duration for specific-preprocessing (in ms)                             6626\n",
      "Name: 6560, dtype: object\n",
      "----------\n",
      "Search: 107862\n",
      "ID                                                      2022-04-09T15:54:40Z\n",
      "number of incoming elements (reloaded + change-file)                  133726\n",
      "number of reloaded nodes                                              113485\n",
      "duration for preprocessing (in ms)                                    123035\n",
      "number of published elements                                           37252\n",
      "duration for specific-preprocessing (in ms)                           107862\n",
      "Name: 5568, dtype: object\n",
      "----------\n"
     ]
    }
   ],
   "source": [
    "def get_maximum_duration_specific_filtering(statistic: pd.DataFrame):\n",
    "    return analysis_index(statistic, DURATION_FOR_SPECIFIC_FILTERING, 'idxmax')\n",
    "\n",
    "run_analysis(get_maximum_duration_specific_filtering, 'Maximum duration for specific filtering')"
   ]
  },
  {
   "cell_type": "markdown",
   "metadata": {
    "pycharm": {
     "name": "#%% md\n"
    }
   },
   "source": [
    "### Minimum duration for specific filtering\n"
   ]
  },
  {
   "cell_type": "code",
   "execution_count": 27,
   "metadata": {
    "pycharm": {
     "name": "#%%\n"
    }
   },
   "outputs": [
    {
     "name": "stdout",
     "output_type": "stream",
     "text": [
      "Minimum duration for specific filtering:\n",
      "All: 1\n",
      "ID                                                      2022-04-09T03:48:45Z\n",
      "number of incoming elements (reloaded + change-file)                      29\n",
      "number of reloaded nodes                                                  25\n",
      "duration for preprocessing (in ms)                                      2036\n",
      "number of published elements                                              29\n",
      "duration for specific-preprocessing (in ms)                                1\n",
      "Name: 4854, dtype: object\n",
      "----------\n",
      "Routing: 0\n",
      "ID                                                      2022-04-09T01:29:37Z\n",
      "number of incoming elements (reloaded + change-file)                    1019\n",
      "number of reloaded nodes                                                 448\n",
      "duration for preprocessing (in ms)                                       784\n",
      "number of published elements                                              14\n",
      "duration for specific-preprocessing (in ms)                                0\n",
      "Name: 4717, dtype: object\n",
      "----------\n",
      "Search: 0\n",
      "ID                                                      2022-04-05T18:12:11Z\n",
      "number of incoming elements (reloaded + change-file)                    1989\n",
      "number of reloaded nodes                                                1489\n",
      "duration for preprocessing (in ms)                                      6859\n",
      "number of published elements                                              20\n",
      "duration for specific-preprocessing (in ms)                                0\n",
      "Name: 22, dtype: object\n",
      "----------\n"
     ]
    }
   ],
   "source": [
    "def get_minimum_duration_specific_filtering(statistic: pd.DataFrame):\n",
    "    return analysis_index(statistic, DURATION_FOR_SPECIFIC_FILTERING, 'idxmin')\n",
    "\n",
    "run_analysis(get_minimum_duration_specific_filtering, 'Minimum duration for specific filtering')"
   ]
  },
  {
   "cell_type": "markdown",
   "metadata": {
    "pycharm": {
     "name": "#%% md\n"
    }
   },
   "source": [
    "### Mean duration for specific filtering"
   ]
  },
  {
   "cell_type": "code",
   "execution_count": 28,
   "metadata": {
    "pycharm": {
     "name": "#%%\n"
    }
   },
   "outputs": [
    {
     "name": "stdout",
     "output_type": "stream",
     "text": [
      "Mean duration for specific filtering:\n",
      "All:                 68.7165109034268\n",
      "Routing:             31.81800824037785\n",
      "Search:              19.892774595518038\n"
     ]
    }
   ],
   "source": [
    "def get_mean_duration_specific_filtering(statistic: pd.DataFrame):\n",
    "    return statistic[DURATION_FOR_SPECIFIC_FILTERING].mean()\n",
    "\n",
    "run_analysis(get_mean_duration_specific_filtering, 'Mean duration for specific filtering')"
   ]
  },
  {
   "cell_type": "markdown",
   "metadata": {
    "pycharm": {
     "name": "#%% md\n"
    }
   },
   "source": [
    "### Median duration for specific filtering"
   ]
  },
  {
   "cell_type": "code",
   "execution_count": 29,
   "metadata": {
    "pycharm": {
     "name": "#%%\n"
    }
   },
   "outputs": [
    {
     "name": "stdout",
     "output_type": "stream",
     "text": [
      "Median duration for specific filtering:\n",
      "All:                 57.0\n",
      "Routing:             25.0\n",
      "Search:              1.0\n"
     ]
    }
   ],
   "source": [
    "def get_median_duration_specific_filtering(statistic: pd.DataFrame):\n",
    "    return statistic[DURATION_FOR_SPECIFIC_FILTERING].median()\n",
    "\n",
    "run_analysis(get_median_duration_specific_filtering, 'Median duration for specific filtering')"
   ]
  },
  {
   "cell_type": "markdown",
   "metadata": {
    "pycharm": {
     "name": "#%% md\n"
    }
   },
   "source": [
    "### Duration for node reloading in relation to number of reloaded nodes"
   ]
  },
  {
   "cell_type": "code",
   "execution_count": 30,
   "metadata": {
    "pycharm": {
     "name": "#%%\n"
    }
   },
   "outputs": [
    {
     "data": {
      "image/png": "[encoded data removed]",
      "text/plain": [
       "<Figure size 360x360 with 1 Axes>"
      ]
     },
     "metadata": {
      "needs_background": "light"
     },
     "output_type": "display_data"
    }
   ],
   "source": [
    "import matplotlib.pyplot as plt\n",
    "\n",
    "FILTER_ATTRIBUTE = DURATION_COMPLETE\n",
    "X_AXIS_VALUE = NUM_OF_RELOADED_NODES\n",
    "\n",
    "reloaded_dataframe = all_dataframe.sort_values(X_AXIS_VALUE)\n",
    "reloaded_x = reloaded_dataframe[X_AXIS_VALUE] / 1e3\n",
    "reloaded_y = (reloaded_dataframe[FILTER_ATTRIBUTE] - reloaded_dataframe[DURATION_FOR_SPECIFIC_FILTERING]) / 1e3\n",
    "\n",
    "plt.figure(figsize=(5, 5))\n",
    "plt.scatter(reloaded_x, reloaded_y, s=10)\n",
    "plt.xlabel(X_AXIS_VALUE + \"(in thousands)\")\n",
    "plt.ylabel(\"Duration for node reloading (in s)\")\n",
    "plt.grid()"
   ]
  },
  {
   "cell_type": "markdown",
   "metadata": {
    "pycharm": {
     "name": "#%% md\n"
    }
   },
   "source": [
    "### Mean duration for node reloading"
   ]
  },
  {
   "cell_type": "code",
   "execution_count": 31,
   "metadata": {
    "pycharm": {
     "name": "#%%\n"
    }
   },
   "outputs": [
    {
     "data": {
      "text/plain": [
       "'3.834503366495829s'"
      ]
     },
     "execution_count": 31,
     "metadata": {},
     "output_type": "execute_result"
    }
   ],
   "source": [
    "str(reloaded_y.mean()) + \"s\""
   ]
  },
  {
   "cell_type": "markdown",
   "metadata": {
    "pycharm": {
     "name": "#%% md\n"
    }
   },
   "source": [
    "### Duration for specific filtering in relation to number of incoming elements"
   ]
  },
  {
   "cell_type": "markdown",
   "metadata": {
    "pycharm": {
     "name": "#%% md\n"
    }
   },
   "source": [
    "Size of data points correspond to the number of elements published"
   ]
  },
  {
   "cell_type": "code",
   "execution_count": 32,
   "metadata": {
    "pycharm": {
     "name": "#%%\n"
    }
   },
   "outputs": [
    {
     "data": {
      "image/png": "[encoded data removed]",
      "text/plain": [
       "<Figure size 1440x360 with 3 Axes>"
      ]
     },
     "metadata": {
      "needs_background": "light"
     },
     "output_type": "display_data"
    }
   ],
   "source": [
    "FILTER_ATTRIBUTE = DURATION_FOR_SPECIFIC_FILTERING\n",
    "X_AXIS_VALUE = NUM_OF_INCOMING_ELEMENTS\n",
    "search_dataframe = statistics[\"Search\"]\n",
    "search_filtered_dataframe = search_dataframe[search_dataframe[FILTER_ATTRIBUTE] < 3000].sort_values([X_AXIS_VALUE])\n",
    "search_x = search_filtered_dataframe[X_AXIS_VALUE]\n",
    "search_y = search_filtered_dataframe[FILTER_ATTRIBUTE]\n",
    "\n",
    "routing_dataframe = statistics[\"Routing\"]\n",
    "routing_filtered_dataframe = routing_dataframe[routing_dataframe[FILTER_ATTRIBUTE] < 6000].sort_values([X_AXIS_VALUE])\n",
    "routing_x = routing_filtered_dataframe[X_AXIS_VALUE]\n",
    "routing_y = routing_filtered_dataframe[FILTER_ATTRIBUTE]\n",
    "\n",
    "all_dataframe = statistics[\"All\"]\n",
    "all_filtered_dataframe = all_dataframe[all_dataframe[FILTER_ATTRIBUTE] < 6000].sort_values([X_AXIS_VALUE])\n",
    "all_x = all_filtered_dataframe[X_AXIS_VALUE]\n",
    "all_y = all_filtered_dataframe[FILTER_ATTRIBUTE]\n",
    "\n",
    "fig, axs = plt.subplots(1, 3, figsize=(20, 5))\n",
    "\n",
    "axs[0].scatter(all_x, all_y, s=all_filtered_dataframe[NUM_OF_PUBLISHED_ELEMENTS]/1e3)\n",
    "axs[0].set_title(\"all\")\n",
    "axs[0].grid()\n",
    "axs[1].scatter(search_x, search_y, s=search_filtered_dataframe[NUM_OF_PUBLISHED_ELEMENTS]/1e2)\n",
    "axs[1].set_title(\"search\")\n",
    "axs[1].grid()\n",
    "axs[2].grid()\n",
    "axs[2].scatter(routing_x, routing_y, s=routing_filtered_dataframe[NUM_OF_PUBLISHED_ELEMENTS]/1e3)\n",
    "axs[2].set_title(\"routing\")\n",
    "\n",
    "for ax in axs.flat:\n",
    "    ax.set(xlabel=X_AXIS_VALUE, ylabel=FILTER_ATTRIBUTE)"
   ]
  },
  {
   "cell_type": "markdown",
   "metadata": {
    "pycharm": {
     "name": "#%% md\n"
    }
   },
   "source": [
    "## Service statistics"
   ]
  },
  {
   "cell_type": "code",
   "execution_count": 33,
   "metadata": {
    "pycharm": {
     "name": "#%%\n"
    }
   },
   "outputs": [],
   "source": [
    "import datetime\n",
    "\n",
    "def date_parse(date):\n",
    "    return datetime.datetime.strptime(date, \"%Y-%m-%dT%H:%M:%SZ\")"
   ]
  },
  {
   "cell_type": "markdown",
   "metadata": {
    "pycharm": {
     "name": "#%% md\n"
    }
   },
   "source": [
    "## Render service statistic"
   ]
  },
  {
   "cell_type": "markdown",
   "metadata": {
    "pycharm": {
     "name": "#%% md\n"
    }
   },
   "source": [
    "Size of data points correspond to the event size"
   ]
  },
  {
   "cell_type": "code",
   "execution_count": 34,
   "metadata": {
    "pycharm": {
     "name": "#%%\n"
    }
   },
   "outputs": [
    {
     "data": {
      "image/png": "[encoded data removed]",
      "text/plain": [
       "<Figure size 1440x360 with 2 Axes>"
      ]
     },
     "metadata": {
      "needs_background": "light"
     },
     "output_type": "display_data"
    }
   ],
   "source": [
    "RENDERER_UPDATE_DURATION_COLUMN = 'duration of imposm update (in ms)'\n",
    "RENDERER_GZIP_COLUMN = 'duration of writing zip file to disk (in ms)'\n",
    "RENDERER_EVENT_SIZE = 'size of incoming event (in bytes)'\n",
    "renderer_service_dataframe = pd.read_csv(\"./data/renderer.statistics.csv\", parse_dates=True, date_parser=date_parse, header=1,\n",
    "                                         index_col=['DateTime'],\n",
    "                                         names=['DateTime', RENDERER_UPDATE_DURATION_COLUMN, RENDERER_GZIP_COLUMN,\n",
    "                                                RENDERER_EVENT_SIZE])\n",
    "renderer_service_dataframe_filtered = renderer_service_dataframe[\n",
    "    renderer_service_dataframe[RENDERER_UPDATE_DURATION_COLUMN] < 30000]\n",
    "x = renderer_service_dataframe.index.get_level_values(\"DateTime\")\n",
    "y = renderer_service_dataframe[RENDERER_UPDATE_DURATION_COLUMN]\n",
    "x_filtered = renderer_service_dataframe_filtered.index.get_level_values(\"DateTime\")\n",
    "y_filtered = renderer_service_dataframe_filtered[RENDERER_UPDATE_DURATION_COLUMN]\n",
    "x_event_size = renderer_service_dataframe[RENDERER_EVENT_SIZE]\n",
    "\n",
    "fig, axs = plt.subplots(1, 2, figsize=(20, 5))\n",
    "\n",
    "axs[0].scatter(x, y, s=10)\n",
    "axs[0].plot()\n",
    "axs[0].axhline(y=60000, color='r').set_label('Border for new event arrival')\n",
    "axs[0].set_title(\"Duration in relation to size of event\")\n",
    "axs[0].legend()\n",
    "axs[0].grid()\n",
    "axs[0].set(xlabel='Size of event (in MB)')\n",
    "axs[1].scatter(x_filtered, y_filtered, s=renderer_service_dataframe_filtered[RENDERER_EVENT_SIZE] / 1e5)\n",
    "axs[1].set_title(\"Data below 30000 ms\")\n",
    "axs[1].grid()\n",
    "for ax in axs.flat:\n",
    "    ax.set(ylabel=RENDERER_UPDATE_DURATION_COLUMN)\n",
    "\n",
    "plt.gcf().autofmt_xdate()\n",
    "plt.show()"
   ]
  },
  {
   "cell_type": "markdown",
   "metadata": {
    "pycharm": {
     "name": "#%% md\n"
    }
   },
   "source": [
    "## Routing service statistic"
   ]
  },
  {
   "cell_type": "code",
   "execution_count": 35,
   "metadata": {
    "pycharm": {
     "name": "#%%\n"
    }
   },
   "outputs": [
    {
     "data": {
      "image/png": "[encoded data removed]",
      "text/plain": [
       "<Figure size 1440x360 with 3 Axes>"
      ]
     },
     "metadata": {
      "needs_background": "light"
     },
     "output_type": "display_data"
    }
   ],
   "source": [
    "ROUTING_SERVER_DURATION_COLUMN = 'duration of routing servers update (in ms)'\n",
    "routing_service_dataframe = pd.read_csv(\"./data/routing-server.statistics.csv\", parse_dates=True, date_parser=date_parse,\n",
    "                                        header=1, index_col=['DateTime'],\n",
    "                                        names=['DateTime', ROUTING_SERVER_DURATION_COLUMN])\n",
    "\n",
    "x_routing = routing_service_dataframe.index.get_level_values(\"DateTime\")\n",
    "y_routing = routing_service_dataframe[ROUTING_SERVER_DURATION_COLUMN]\n",
    "\n",
    "MAP_UPDATE_DURATION_COLUMN = 'duration of map update (in ms)'\n",
    "MAP_SIZE_COLUMN = 'size of map (in bytes)'\n",
    "MAP_GZIP_COLUMN = 'duration of writing zip file to disk (in ms)'\n",
    "MAP_EVENT_SIZE = 'size of incoming event (in bytes)'\n",
    "map_service_dataframe = pd.read_csv(\"./data/map.statistics.csv\", parse_dates=True, date_parser=date_parse, header=1,\n",
    "                                    index_col=['DateTime'],\n",
    "                                    names=['DateTime', MAP_UPDATE_DURATION_COLUMN, MAP_SIZE_COLUMN, MAP_GZIP_COLUMN,\n",
    "                                           MAP_EVENT_SIZE])\n",
    "map_service_dataframe_filtered = map_service_dataframe[map_service_dataframe[MAP_UPDATE_DURATION_COLUMN] < 16000]\n",
    "\n",
    "x = map_service_dataframe.index.get_level_values(\"DateTime\")\n",
    "y = map_service_dataframe[MAP_UPDATE_DURATION_COLUMN]\n",
    "x_event_size = map_service_dataframe[MAP_EVENT_SIZE]\n",
    "y_filtered = map_service_dataframe_filtered[MAP_UPDATE_DURATION_COLUMN]\n",
    "x_filtered = map_service_dataframe_filtered.index.get_level_values(\"DateTime\")\n",
    "\n",
    "y_map_size = map_service_dataframe_filtered[MAP_SIZE_COLUMN]\n",
    "\n",
    "fig, axs = plt.subplots(1, 3, figsize=(20, 5))\n",
    "axs[0].scatter(x_filtered, y_filtered, s=map_service_dataframe_filtered[MAP_EVENT_SIZE] / 1e5)\n",
    "axs[0].grid()\n",
    "axs[0].set_title(\"Duration for local map update\")\n",
    "axs[0].set(ylabel=MAP_UPDATE_DURATION_COLUMN)\n",
    "axs[1].plot(x, map_service_dataframe[MAP_SIZE_COLUMN] / 1e6)\n",
    "axs[1].grid()\n",
    "axs[1].set_title(\"Size of local map\")\n",
    "axs[1].set(ylabel='size of local map file (in MB)')\n",
    "axs[2].plot(x_routing, y_routing / 1e5)\n",
    "axs[2].grid()\n",
    "axs[2].set_title(\"Duration for generating routing servers\")\n",
    "axs[2].set(ylabel='routing servers structure generation duration (in min)')\n",
    "plt.gcf().autofmt_xdate()\n",
    "for ax in axs.flat:\n",
    "    ax.set(xlabel='Time')\n",
    "plt.show()"
   ]
  },
  {
   "cell_type": "markdown",
   "metadata": {
    "pycharm": {
     "name": "#%% md\n"
    }
   },
   "source": [
    "### Search service statistic"
   ]
  },
  {
   "cell_type": "code",
   "execution_count": 36,
   "metadata": {
    "pycharm": {
     "name": "#%%\n"
    }
   },
   "outputs": [
    {
     "name": "stdout",
     "output_type": "stream",
     "text": [
      "Mean:  duration of search update (in ms)    210.402473\n",
      "dtype: float64\n",
      "Max:  duration of search update (in ms)    131597.916\n",
      "dtype: float64\n",
      "Min:  duration of search update (in ms)    0.266\n",
      "dtype: float64\n",
      "Median:  duration of search update (in ms)    35.4585\n",
      "dtype: float64\n",
      "5\n"
     ]
    },
    {
     "data": {
      "image/png": "[encoded data removed]",
      "text/plain": [
       "<Figure size 432x288 with 1 Axes>"
      ]
     },
     "metadata": {
      "needs_background": "light"
     },
     "output_type": "display_data"
    }
   ],
   "source": [
    "search_service_dataframe = pd.read_csv('./data/search_service.data.csv')\n",
    "search_service_dataframe[search_service_dataframe['duration of search update (in ms)'] < 1000]\n",
    "print(\"Mean: \", search_service_dataframe.mean())\n",
    "print(\"Max: \", search_service_dataframe.max())\n",
    "print(\"Min: \", search_service_dataframe.min())\n",
    "print(\"Median: \", search_service_dataframe.median())\n",
    "search_service_dataframe.plot()\n",
    "print(len(search_service_dataframe[search_service_dataframe['duration of search update (in ms)'] > 60000]))"
   ]
  }
 ],
 "metadata": {
  "kernelspec": {
   "display_name": "Python 3 (ipykernel)",
   "language": "python",
   "name": "python3"
  },
  "language_info": {
   "codemirror_mode": {
    "name": "ipython",
    "version": 3
   },
   "file_extension": ".py",
   "mimetype": "text/x-python",
   "name": "python",
   "nbconvert_exporter": "python",
   "pygments_lexer": "ipython3",
   "version": "3.9.0"
  }
 },
 "nbformat": 4,
 "nbformat_minor": 1
}