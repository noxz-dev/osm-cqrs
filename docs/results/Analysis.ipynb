{
 "cells": [
  {
   "cell_type": "code",
   "execution_count": 39,
   "outputs": [],
   "source": [
    "import pandas as pd\n",
    "\n",
    "all_statistic = pd.read_csv(\"all.statistics.csv\")\n",
    "routing_statistic = pd.read_csv(\"routing.statistics.csv\")\n",
    "search_statistic = pd.read_csv(\"search.statistics.csv\")\n",
    "\n",
    "statistics = {\n",
    "    \"All\": all_statistic,\n",
    "    \"Routing\": routing_statistic,\n",
    "    \"Search\": search_statistic\n",
    "}\n",
    "\n",
    "NUM_OF_INCOMING_ELEMENTS = 'number of incoming elements (reloaded + change-file)'\n",
    "DURATION_FOR_SPECIFIC_FILTERING = 'duration for specific-preprocessing (in ms)'\n",
    "NUM_OF_PUBLISHED_ELEMENTS = 'number of published elements'\n",
    "DURATION_COMPLETE = 'duration for preprocessing (in ms)'"
   ],
   "metadata": {
    "collapsed": false,
    "pycharm": {
     "name": "#%%\n"
    }
   }
  },
  {
   "cell_type": "code",
   "execution_count": 40,
   "outputs": [],
   "source": [
    "# Number of changesets received\n",
    "def num_of_rows(statistic: pd.DataFrame):\n",
    "    return len(statistic)"
   ],
   "metadata": {
    "collapsed": false,
    "pycharm": {
     "name": "#%%\n"
    }
   }
  },
  {
   "cell_type": "code",
   "execution_count": 41,
   "outputs": [],
   "source": [
    "from typing import Callable\n",
    "\n",
    "\n",
    "def analysis(statistic: pd.DataFrame, col: str, index_func: str = None):\n",
    "    index_func = getattr(statistic[col], index_func)\n",
    "    index = index_func()\n",
    "    row = statistic.iloc[index]\n",
    "    value = row[col]\n",
    "    return value, row"
   ],
   "metadata": {
    "collapsed": false,
    "pycharm": {
     "name": "#%%\n"
    }
   }
  },
  {
   "cell_type": "code",
   "execution_count": 42,
   "outputs": [],
   "source": [
    "# Maximum number of elements found in a changeset (with reloaded)\n",
    "def get_max_num_of_elements(statistic: pd.DataFrame):\n",
    "    return analysis(statistic, NUM_OF_INCOMING_ELEMENTS, 'idxmax')"
   ],
   "metadata": {
    "collapsed": false,
    "pycharm": {
     "name": "#%%\n"
    }
   }
  },
  {
   "cell_type": "code",
   "execution_count": 43,
   "outputs": [],
   "source": [
    "# Minimal number of elements found in a chageset\n",
    "def get_min_num_of_elements(statistic: pd.DataFrame):\n",
    "    return analysis(statistic, NUM_OF_INCOMING_ELEMENTS, 'idxmin')"
   ],
   "metadata": {
    "collapsed": false,
    "pycharm": {
     "name": "#%%\n"
    }
   }
  },
  {
   "cell_type": "code",
   "execution_count": 44,
   "outputs": [],
   "source": [
    "# The mean num elements in a changeset\n",
    "def get_mean_num_of_elements(statistic: pd.DataFrame):\n",
    "    return statistic[NUM_OF_INCOMING_ELEMENTS].mean()"
   ],
   "metadata": {
    "collapsed": false,
    "pycharm": {
     "name": "#%%\n"
    }
   }
  },
  {
   "cell_type": "code",
   "execution_count": 45,
   "outputs": [],
   "source": [
    "# The median num elements in a changeset\n",
    "def get_median_num_of_elements(statistic: pd.DataFrame):\n",
    "    return statistic[NUM_OF_INCOMING_ELEMENTS].median()"
   ],
   "metadata": {
    "collapsed": false,
    "pycharm": {
     "name": "#%%\n"
    }
   }
  },
  {
   "cell_type": "code",
   "execution_count": 46,
   "outputs": [],
   "source": [
    "# Maximum duration for subject specific filtering\n",
    "def get_maximum_duration_specific_filtering(statistic: pd.DataFrame):\n",
    "    return analysis(statistic, DURATION_FOR_SPECIFIC_FILTERING, 'idxmax')"
   ],
   "metadata": {
    "collapsed": false,
    "pycharm": {
     "name": "#%%\n"
    }
   }
  },
  {
   "cell_type": "code",
   "execution_count": 47,
   "outputs": [],
   "source": [
    "# Minimum duration for subject specific filtering\n",
    "def get_minimum_duration_specific_filtering(statistic: pd.DataFrame):\n",
    "    return analysis(statistic, DURATION_FOR_SPECIFIC_FILTERING, 'idxmin')"
   ],
   "metadata": {
    "collapsed": false,
    "pycharm": {
     "name": "#%%\n"
    }
   }
  },
  {
   "cell_type": "code",
   "execution_count": 48,
   "outputs": [],
   "source": [
    "# Mean duration for subject specific filtering\n",
    "def get_mean_duration_specific_filtering(statistic: pd.DataFrame):\n",
    "    return statistic[DURATION_FOR_SPECIFIC_FILTERING].mean()"
   ],
   "metadata": {
    "collapsed": false,
    "pycharm": {
     "name": "#%%\n"
    }
   }
  },
  {
   "cell_type": "code",
   "execution_count": 49,
   "outputs": [],
   "source": [
    "def get_maximum_duration_filtering(statistic: pd.DataFrame):\n",
    "    return analysis(statistic, DURATION_COMPLETE, 'idxmax')"
   ],
   "metadata": {
    "collapsed": false,
    "pycharm": {
     "name": "#%%\n"
    }
   }
  },
  {
   "cell_type": "code",
   "execution_count": 50,
   "outputs": [],
   "source": [
    "def get_minimum_duration_filtering(statistic: pd.DataFrame):\n",
    "    return analysis(statistic, DURATION_COMPLETE, 'idxmin')"
   ],
   "metadata": {
    "collapsed": false,
    "pycharm": {
     "name": "#%%\n"
    }
   }
  },
  {
   "cell_type": "code",
   "execution_count": 51,
   "outputs": [],
   "source": [
    "def get_mean_duration_filtering(statistic: pd.DataFrame):\n",
    "    return statistic[DURATION_COMPLETE].mean()"
   ],
   "metadata": {
    "collapsed": false,
    "pycharm": {
     "name": "#%%\n"
    }
   }
  },
  {
   "cell_type": "code",
   "execution_count": 52,
   "outputs": [],
   "source": [
    "# Maximum difference between received and published elements. Maximum amount of discarded elements by each subject.\n",
    "def get_max_diff_received_published_elements(statistic: pd.DataFrame):\n",
    "    index = (statistic[NUM_OF_INCOMING_ELEMENTS] - statistic[NUM_OF_PUBLISHED_ELEMENTS]).idxmax()\n",
    "    row = statistic.iloc[index]\n",
    "    value = row[NUM_OF_INCOMING_ELEMENTS] - row[NUM_OF_PUBLISHED_ELEMENTS]\n",
    "    return value, row"
   ],
   "metadata": {
    "collapsed": false,
    "pycharm": {
     "name": "#%%\n"
    }
   }
  },
  {
   "cell_type": "code",
   "execution_count": 53,
   "outputs": [],
   "source": [
    "# Minimum difference between received and published elements. Minimum amount of discarded elements by each subject.\n",
    "def get_min_diff_received_published_elements(statistic: pd.DataFrame):\n",
    "    index = (statistic[NUM_OF_INCOMING_ELEMENTS] - statistic[NUM_OF_PUBLISHED_ELEMENTS]).idxmin()\n",
    "    row = statistic.iloc[index]\n",
    "    value = row[NUM_OF_INCOMING_ELEMENTS] - row[NUM_OF_PUBLISHED_ELEMENTS]\n",
    "    return value, row"
   ],
   "metadata": {
    "collapsed": false,
    "pycharm": {
     "name": "#%%\n"
    }
   }
  },
  {
   "cell_type": "code",
   "execution_count": 54,
   "outputs": [],
   "source": [
    "# Mean difference between received and published elements. Mean amount of discarded elements by each subject\n",
    "def get_mean_diff_received_published_elements(statistic: pd.DataFrame):\n",
    "    value = (statistic[NUM_OF_INCOMING_ELEMENTS] - statistic[NUM_OF_PUBLISHED_ELEMENTS]).mean()\n",
    "    return value"
   ],
   "metadata": {
    "collapsed": false,
    "pycharm": {
     "name": "#%%\n"
    }
   }
  },
  {
   "cell_type": "code",
   "execution_count": 55,
   "outputs": [],
   "source": [
    "def get_percentage_mean_diff(statistic: pd.DataFrame):\n",
    "    value = get_mean_diff_received_published_elements(statistic) / get_mean_num_of_elements(statistic)\n",
    "    return value"
   ],
   "metadata": {
    "collapsed": false,
    "pycharm": {
     "name": "#%%\n"
    }
   }
  },
  {
   "cell_type": "code",
   "execution_count": 56,
   "outputs": [],
   "source": [
    "def run_analysis(analysis: Callable, analysis_name: str):\n",
    "    print(analysis_name + \":\")\n",
    "    for name, statistic in statistics.items():\n",
    "        value = analysis(statistic)\n",
    "        if type(value) is tuple:\n",
    "            print(name + \": \" + str(value[0]))\n",
    "            for val in value[1:]:\n",
    "                print(val)\n",
    "            print(\"-------------\")\n",
    "        else:\n",
    "            print((name + ':').ljust(20), value)"
   ],
   "metadata": {
    "collapsed": false,
    "pycharm": {
     "name": "#%%\n"
    }
   }
  },
  {
   "cell_type": "code",
   "execution_count": 57,
   "outputs": [
    {
     "name": "stdout",
     "output_type": "stream",
     "text": [
      "Num of rows:\n",
      "All:                 9951\n",
      "Routing:             9951\n",
      "Search:              9951\n"
     ]
    }
   ],
   "source": [
    "run_analysis(num_of_rows, \"Num of rows\")"
   ],
   "metadata": {
    "collapsed": false,
    "pycharm": {
     "name": "#%%\n"
    }
   }
  },
  {
   "cell_type": "code",
   "execution_count": 58,
   "outputs": [
    {
     "name": "stdout",
     "output_type": "stream",
     "text": [
      "Maximum elements:\n",
      "All: 209676\n",
      "ID                                                      2022-04-06T23:35:30Z\n",
      "number of incoming elements (reloaded + change-file)                  209676\n",
      "number of reloaded nodes                                              153283\n",
      "duration for preprocessing (in ms)                                     31102\n",
      "number of published elements                                          209676\n",
      "duration for specific-preprocessing (in ms)                             1736\n",
      "Name: 1762, dtype: object\n",
      "-------------\n",
      "Routing: 209676\n",
      "ID                                                      2022-04-06T23:35:29Z\n",
      "number of incoming elements (reloaded + change-file)                  209676\n",
      "number of reloaded nodes                                              153283\n",
      "duration for preprocessing (in ms)                                     29408\n",
      "number of published elements                                            1929\n",
      "duration for specific-preprocessing (in ms)                               42\n",
      "Name: 1762, dtype: object\n",
      "-------------\n",
      "Search: 209676\n",
      "ID                                                      2022-04-06T23:35:29Z\n",
      "number of incoming elements (reloaded + change-file)                  209676\n",
      "number of reloaded nodes                                              153283\n",
      "duration for preprocessing (in ms)                                     29431\n",
      "number of published elements                                            2606\n",
      "duration for specific-preprocessing (in ms)                               65\n",
      "Name: 1762, dtype: object\n",
      "-------------\n"
     ]
    }
   ],
   "source": [
    "run_analysis(get_max_num_of_elements, \"Maximum elements\")"
   ],
   "metadata": {
    "collapsed": false,
    "pycharm": {
     "name": "#%%\n"
    }
   }
  },
  {
   "cell_type": "code",
   "execution_count": 59,
   "outputs": [
    {
     "name": "stdout",
     "output_type": "stream",
     "text": [
      "Minimum elements:\n",
      "All: 21\n",
      "ID                                                      2022-04-10T00:44:19Z\n",
      "number of incoming elements (reloaded + change-file)                      21\n",
      "number of reloaded nodes                                                  18\n",
      "duration for preprocessing (in ms)                                      2280\n",
      "number of published elements                                              21\n",
      "duration for specific-preprocessing (in ms)                                2\n",
      "Name: 6092, dtype: object\n",
      "-------------\n",
      "Routing: 21\n",
      "ID                                                      2022-04-10T00:44:19Z\n",
      "number of incoming elements (reloaded + change-file)                      21\n",
      "number of reloaded nodes                                                  18\n",
      "duration for preprocessing (in ms)                                      2280\n",
      "number of published elements                                               5\n",
      "duration for specific-preprocessing (in ms)                                1\n",
      "Name: 6092, dtype: object\n",
      "-------------\n",
      "Search: 21\n",
      "ID                                                      2022-04-10T00:44:19Z\n",
      "number of incoming elements (reloaded + change-file)                      21\n",
      "number of reloaded nodes                                                  18\n",
      "duration for preprocessing (in ms)                                      2278\n",
      "number of published elements                                               1\n",
      "duration for specific-preprocessing (in ms)                                0\n",
      "Name: 6092, dtype: object\n",
      "-------------\n"
     ]
    }
   ],
   "source": [
    "run_analysis(get_min_num_of_elements, \"Minimum elements\")"
   ],
   "metadata": {
    "collapsed": false,
    "pycharm": {
     "name": "#%%\n"
    }
   }
  },
  {
   "cell_type": "code",
   "execution_count": 60,
   "outputs": [
    {
     "name": "stdout",
     "output_type": "stream",
     "text": [
      "Mean elements per changeset:\n",
      "All:                 5002.555622550497\n",
      "Routing:             5002.555622550497\n",
      "Search:              5002.555622550497\n"
     ]
    }
   ],
   "source": [
    "run_analysis(get_mean_num_of_elements, \"Mean elements per changeset\")"
   ],
   "metadata": {
    "collapsed": false,
    "pycharm": {
     "name": "#%%\n"
    }
   }
  },
  {
   "cell_type": "code",
   "execution_count": 61,
   "outputs": [
    {
     "name": "stdout",
     "output_type": "stream",
     "text": [
      "Median elements per changeset:\n",
      "All:                 4224.0\n",
      "Routing:             4224.0\n",
      "Search:              4224.0\n"
     ]
    }
   ],
   "source": [
    "run_analysis(get_median_num_of_elements, \"Median elements per changeset\")"
   ],
   "metadata": {
    "collapsed": false,
    "pycharm": {
     "name": "#%%\n"
    }
   }
  },
  {
   "cell_type": "code",
   "execution_count": 62,
   "outputs": [
    {
     "name": "stdout",
     "output_type": "stream",
     "text": [
      "Maximum duration for specific filtering:\n",
      "All: 12627\n",
      "ID                                                      2022-04-12T09:21:05Z\n",
      "number of incoming elements (reloaded + change-file)                    7736\n",
      "number of reloaded nodes                                                4300\n",
      "duration for preprocessing (in ms)                                     15794\n",
      "number of published elements                                            7736\n",
      "duration for specific-preprocessing (in ms)                            12627\n",
      "Name: 9444, dtype: object\n",
      "-------------\n",
      "Routing: 6626\n",
      "ID                                                      2022-04-10T08:39:30Z\n",
      "number of incoming elements (reloaded + change-file)                    4505\n",
      "number of reloaded nodes                                                3229\n",
      "duration for preprocessing (in ms)                                      9273\n",
      "number of published elements                                            1915\n",
      "duration for specific-preprocessing (in ms)                             6626\n",
      "Name: 6560, dtype: object\n",
      "-------------\n",
      "Search: 107862\n",
      "ID                                                      2022-04-09T15:54:40Z\n",
      "number of incoming elements (reloaded + change-file)                  133726\n",
      "number of reloaded nodes                                              113485\n",
      "duration for preprocessing (in ms)                                    123035\n",
      "number of published elements                                           37252\n",
      "duration for specific-preprocessing (in ms)                           107862\n",
      "Name: 5568, dtype: object\n",
      "-------------\n"
     ]
    }
   ],
   "source": [
    "run_analysis(get_maximum_duration_specific_filtering, \"Maximum duration for specific filtering\")"
   ],
   "metadata": {
    "collapsed": false,
    "pycharm": {
     "name": "#%%\n"
    }
   }
  },
  {
   "cell_type": "code",
   "execution_count": 63,
   "outputs": [
    {
     "name": "stdout",
     "output_type": "stream",
     "text": [
      "Minimum duration for specific filtering:\n",
      "All: 1\n",
      "ID                                                      2022-04-09T03:48:45Z\n",
      "number of incoming elements (reloaded + change-file)                      29\n",
      "number of reloaded nodes                                                  25\n",
      "duration for preprocessing (in ms)                                      2036\n",
      "number of published elements                                              29\n",
      "duration for specific-preprocessing (in ms)                                1\n",
      "Name: 4854, dtype: object\n",
      "-------------\n",
      "Routing: 0\n",
      "ID                                                      2022-04-09T01:29:37Z\n",
      "number of incoming elements (reloaded + change-file)                    1019\n",
      "number of reloaded nodes                                                 448\n",
      "duration for preprocessing (in ms)                                       784\n",
      "number of published elements                                              14\n",
      "duration for specific-preprocessing (in ms)                                0\n",
      "Name: 4717, dtype: object\n",
      "-------------\n",
      "Search: 0\n",
      "ID                                                      2022-04-05T18:12:11Z\n",
      "number of incoming elements (reloaded + change-file)                    1989\n",
      "number of reloaded nodes                                                1489\n",
      "duration for preprocessing (in ms)                                      6859\n",
      "number of published elements                                              20\n",
      "duration for specific-preprocessing (in ms)                                0\n",
      "Name: 22, dtype: object\n",
      "-------------\n"
     ]
    }
   ],
   "source": [
    "run_analysis(get_minimum_duration_specific_filtering, \"Minimum duration for specific filtering\")"
   ],
   "metadata": {
    "collapsed": false,
    "pycharm": {
     "name": "#%%\n"
    }
   }
  },
  {
   "cell_type": "code",
   "execution_count": 64,
   "outputs": [
    {
     "name": "stdout",
     "output_type": "stream",
     "text": [
      "Mean duration for specific filtering:\n",
      "All:                 68.7165109034268\n",
      "Routing:             31.81800824037785\n",
      "Search:              19.892774595518038\n"
     ]
    }
   ],
   "source": [
    "run_analysis(get_mean_duration_specific_filtering, \"Mean duration for specific filtering\")"
   ],
   "metadata": {
    "collapsed": false,
    "pycharm": {
     "name": "#%%\n"
    }
   }
  },
  {
   "cell_type": "code",
   "execution_count": 65,
   "outputs": [
    {
     "name": "stdout",
     "output_type": "stream",
     "text": [
      "Max difference between received and published:\n",
      "All: 0\n",
      "ID                                                      2022-04-05T17:50:44Z\n",
      "number of incoming elements (reloaded + change-file)                    2700\n",
      "number of reloaded nodes                                                 992\n",
      "duration for preprocessing (in ms)                                      3250\n",
      "number of published elements                                            2700\n",
      "duration for specific-preprocessing (in ms)                               89\n",
      "Name: 0, dtype: object\n",
      "-------------\n",
      "Routing: 207747\n",
      "ID                                                      2022-04-06T23:35:29Z\n",
      "number of incoming elements (reloaded + change-file)                  209676\n",
      "number of reloaded nodes                                              153283\n",
      "duration for preprocessing (in ms)                                     29408\n",
      "number of published elements                                            1929\n",
      "duration for specific-preprocessing (in ms)                               42\n",
      "Name: 1762, dtype: object\n",
      "-------------\n",
      "Search: 207070\n",
      "ID                                                      2022-04-06T23:35:29Z\n",
      "number of incoming elements (reloaded + change-file)                  209676\n",
      "number of reloaded nodes                                              153283\n",
      "duration for preprocessing (in ms)                                     29431\n",
      "number of published elements                                            2606\n",
      "duration for specific-preprocessing (in ms)                               65\n",
      "Name: 1762, dtype: object\n",
      "-------------\n"
     ]
    }
   ],
   "source": [
    "run_analysis(get_max_diff_received_published_elements, \"Max difference between received and published\")"
   ],
   "metadata": {
    "collapsed": false,
    "pycharm": {
     "name": "#%%\n"
    }
   }
  },
  {
   "cell_type": "code",
   "execution_count": 66,
   "outputs": [
    {
     "name": "stdout",
     "output_type": "stream",
     "text": [
      "Min difference between received and published:\n",
      "All: 0\n",
      "ID                                                      2022-04-05T17:50:44Z\n",
      "number of incoming elements (reloaded + change-file)                    2700\n",
      "number of reloaded nodes                                                 992\n",
      "duration for preprocessing (in ms)                                      3250\n",
      "number of published elements                                            2700\n",
      "duration for specific-preprocessing (in ms)                               89\n",
      "Name: 0, dtype: object\n",
      "-------------\n",
      "Routing: 0\n",
      "ID                                                      2022-04-09T03:48:45Z\n",
      "number of incoming elements (reloaded + change-file)                      29\n",
      "number of reloaded nodes                                                  25\n",
      "duration for preprocessing (in ms)                                      2041\n",
      "number of published elements                                              29\n",
      "duration for specific-preprocessing (in ms)                                4\n",
      "Name: 4854, dtype: object\n",
      "-------------\n",
      "Search: 20\n",
      "ID                                                      2022-04-10T00:44:19Z\n",
      "number of incoming elements (reloaded + change-file)                      21\n",
      "number of reloaded nodes                                                  18\n",
      "duration for preprocessing (in ms)                                      2278\n",
      "number of published elements                                               1\n",
      "duration for specific-preprocessing (in ms)                                0\n",
      "Name: 6092, dtype: object\n",
      "-------------\n"
     ]
    }
   ],
   "source": [
    "run_analysis(get_min_diff_received_published_elements, \"Min difference between received and published\")"
   ],
   "metadata": {
    "collapsed": false,
    "pycharm": {
     "name": "#%%\n"
    }
   }
  },
  {
   "cell_type": "code",
   "execution_count": 67,
   "outputs": [
    {
     "name": "stdout",
     "output_type": "stream",
     "text": [
      "Mean difference between received and published:\n",
      "All:                 0.0\n",
      "Routing:             3395.9457340970757\n",
      "Search:              4924.220480353733\n"
     ]
    }
   ],
   "source": [
    "run_analysis(get_mean_diff_received_published_elements, \"Mean difference between received and published\")"
   ],
   "metadata": {
    "collapsed": false,
    "pycharm": {
     "name": "#%%\n"
    }
   }
  },
  {
   "cell_type": "code",
   "execution_count": 68,
   "outputs": [
    {
     "name": "stdout",
     "output_type": "stream",
     "text": [
      "Maximum duration filtering:\n",
      "All: 43359\n",
      "ID                                                      2022-04-06T09:49:45Z\n",
      "number of incoming elements (reloaded + change-file)                    6099\n",
      "number of reloaded nodes                                                3046\n",
      "duration for preprocessing (in ms)                                     43359\n",
      "number of published elements                                            6099\n",
      "duration for specific-preprocessing (in ms)                               63\n",
      "Name: 947, dtype: object\n",
      "-------------\n",
      "Routing: 43320\n",
      "ID                                                      2022-04-06T09:49:45Z\n",
      "number of incoming elements (reloaded + change-file)                    6099\n",
      "number of reloaded nodes                                                3046\n",
      "duration for preprocessing (in ms)                                     43320\n",
      "number of published elements                                            1559\n",
      "duration for specific-preprocessing (in ms)                               27\n",
      "Name: 947, dtype: object\n",
      "-------------\n",
      "Search: 123035\n",
      "ID                                                      2022-04-09T15:54:40Z\n",
      "number of incoming elements (reloaded + change-file)                  133726\n",
      "number of reloaded nodes                                              113485\n",
      "duration for preprocessing (in ms)                                    123035\n",
      "number of published elements                                           37252\n",
      "duration for specific-preprocessing (in ms)                           107862\n",
      "Name: 5568, dtype: object\n",
      "-------------\n"
     ]
    }
   ],
   "source": [
    "run_analysis(get_maximum_duration_filtering, \"Maximum duration filtering\")"
   ],
   "metadata": {
    "collapsed": false,
    "pycharm": {
     "name": "#%%\n"
    }
   }
  },
  {
   "cell_type": "code",
   "execution_count": 69,
   "outputs": [
    {
     "name": "stdout",
     "output_type": "stream",
     "text": [
      "Minimum duration filtering:\n",
      "All: 43\n",
      "ID                                                      2022-04-06T01:57:14Z\n",
      "number of incoming elements (reloaded + change-file)                      56\n",
      "number of reloaded nodes                                                   0\n",
      "duration for preprocessing (in ms)                                        43\n",
      "number of published elements                                              56\n",
      "duration for specific-preprocessing (in ms)                                4\n",
      "Name: 481, dtype: object\n",
      "-------------\n",
      "Routing: 41\n",
      "ID                                                      2022-04-06T01:57:14Z\n",
      "number of incoming elements (reloaded + change-file)                      56\n",
      "number of reloaded nodes                                                   0\n",
      "duration for preprocessing (in ms)                                        41\n",
      "number of published elements                                              10\n",
      "duration for specific-preprocessing (in ms)                                2\n",
      "Name: 481, dtype: object\n",
      "-------------\n",
      "Search: 40\n",
      "ID                                                      2022-04-06T01:57:14Z\n",
      "number of incoming elements (reloaded + change-file)                      56\n",
      "number of reloaded nodes                                                   0\n",
      "duration for preprocessing (in ms)                                        40\n",
      "number of published elements                                              24\n",
      "duration for specific-preprocessing (in ms)                                1\n",
      "Name: 481, dtype: object\n",
      "-------------\n"
     ]
    }
   ],
   "source": [
    "run_analysis(get_minimum_duration_filtering, \"Minimum duration filtering\")"
   ],
   "metadata": {
    "collapsed": false,
    "pycharm": {
     "name": "#%%\n"
    }
   }
  },
  {
   "cell_type": "code",
   "execution_count": 70,
   "outputs": [
    {
     "name": "stdout",
     "output_type": "stream",
     "text": [
      "Mean duration filtering:\n",
      "All:                 3903.2198773992563\n",
      "Routing:             3866.064214651794\n",
      "Search:              3854.091347603256\n"
     ]
    }
   ],
   "source": [
    "run_analysis(get_mean_duration_filtering, \"Mean duration filtering\")"
   ],
   "metadata": {
    "collapsed": false,
    "pycharm": {
     "name": "#%%\n"
    }
   }
  },
  {
   "cell_type": "code",
   "execution_count": 71,
   "outputs": [
    {
     "name": "stdout",
     "output_type": "stream",
     "text": [
      "49780431\n"
     ]
    }
   ],
   "source": [
    "sum_incoming = statistics[\"All\"][NUM_OF_INCOMING_ELEMENTS].sum()\n",
    "print(sum_incoming)"
   ],
   "metadata": {
    "collapsed": false,
    "pycharm": {
     "name": "#%%\n"
    }
   }
  },
  {
   "cell_type": "code",
   "execution_count": 72,
   "outputs": [
    {
     "name": "stdout",
     "output_type": "stream",
     "text": [
      "15987375\n"
     ]
    }
   ],
   "source": [
    "sum_routing_published = statistics[\"Routing\"][NUM_OF_PUBLISHED_ELEMENTS].sum()\n",
    "print(sum_routing_published)"
   ],
   "metadata": {
    "collapsed": false,
    "pycharm": {
     "name": "#%%\n"
    }
   }
  },
  {
   "cell_type": "code",
   "execution_count": 73,
   "outputs": [
    {
     "name": "stdout",
     "output_type": "stream",
     "text": [
      "0.6788421739458221\n"
     ]
    }
   ],
   "source": [
    "percentage_routing = sum_routing_published / sum_incoming\n",
    "print(1 - percentage_routing)"
   ],
   "metadata": {
    "collapsed": false,
    "pycharm": {
     "name": "#%%\n"
    }
   }
  },
  {
   "cell_type": "code",
   "execution_count": 74,
   "outputs": [
    {
     "name": "stdout",
     "output_type": "stream",
     "text": [
      "779513\n"
     ]
    }
   ],
   "source": [
    "sum_search = statistics[\"Search\"][NUM_OF_PUBLISHED_ELEMENTS].sum()\n",
    "print(sum_search)"
   ],
   "metadata": {
    "collapsed": false,
    "pycharm": {
     "name": "#%%\n"
    }
   }
  },
  {
   "cell_type": "code",
   "execution_count": 75,
   "outputs": [
    {
     "name": "stdout",
     "output_type": "stream",
     "text": [
      "0.9843409752719899\n"
     ]
    }
   ],
   "source": [
    "percentage_search = sum_search / sum_incoming\n",
    "print(1 - percentage_search)"
   ],
   "metadata": {
    "collapsed": false,
    "pycharm": {
     "name": "#%%\n"
    }
   }
  },
  {
   "cell_type": "code",
   "execution_count": 76,
   "outputs": [
    {
     "name": "stdout",
     "output_type": "stream",
     "text": [
      "Mean percentage diff:\n",
      "All:                 0.0\n",
      "Routing:             0.6788421739458222\n",
      "Search:              0.98434097527199\n"
     ]
    }
   ],
   "source": [
    "run_analysis(get_percentage_mean_diff, \"Mean percentage diff\")"
   ],
   "metadata": {
    "collapsed": false,
    "pycharm": {
     "name": "#%%\n"
    }
   }
  },
  {
   "cell_type": "code",
   "execution_count": 79,
   "outputs": [
    {
     "data": {
      "text/plain": "                        ID  \\\n5568  2022-04-09T15:54:40Z   \n947   2022-04-06T09:49:45Z   \n1762  2022-04-06T23:35:29Z   \n4073  2022-04-08T14:37:35Z   \n1216  2022-04-06T14:22:11Z   \n...                    ...   \n6408  2022-04-10T06:05:19Z   \n4716  2022-04-09T01:28:26Z   \n7520  2022-04-11T00:51:27Z   \n7500  2022-04-11T00:31:16Z   \n481   2022-04-06T01:57:14Z   \n\n      number of incoming elements (reloaded + change-file)  \\\n5568                                             133726      \n947                                                6099      \n1762                                             209676      \n4073                                              25872      \n1216                                               5889      \n...                                                 ...      \n6408                                                500      \n4716                                                565      \n7520                                                255      \n7500                                                417      \n481                                                  56      \n\n      number of reloaded nodes  duration for preprocessing (in ms)  \\\n5568                    113485                              123035   \n947                       3046                               43293   \n1762                    153283                               29431   \n4073                      4689                               25302   \n1216                      2707                               25148   \n...                        ...                                 ...   \n6408                         0                                  55   \n4716                         0                                  51   \n7520                         0                                  47   \n7500                         0                                  44   \n481                          0                                  40   \n\n      number of published elements  \\\n5568                         37252   \n947                             16   \n1762                          2606   \n4073                           106   \n1216                            33   \n...                            ...   \n6408                             0   \n4716                             0   \n7520                             7   \n7500                             1   \n481                             24   \n\n      duration for specific-preprocessing (in ms)  \n5568                                       107862  \n947                                             0  \n1762                                           65  \n4073                                            4  \n1216                                            2  \n...                                           ...  \n6408                                            0  \n4716                                            0  \n7520                                            2  \n7500                                            0  \n481                                             1  \n\n[9951 rows x 6 columns]",
      "text/html": "<div>\n<style scoped>\n    .dataframe tbody tr th:only-of-type {\n        vertical-align: middle;\n    }\n\n    .dataframe tbody tr th {\n        vertical-align: top;\n    }\n\n    .dataframe thead th {\n        text-align: right;\n    }\n</style>\n<table border=\"1\" class=\"dataframe\">\n  <thead>\n    <tr style=\"text-align: right;\">\n      <th></th>\n      <th>ID</th>\n      <th>number of incoming elements (reloaded + change-file)</th>\n      <th>number of reloaded nodes</th>\n      <th>duration for preprocessing (in ms)</th>\n      <th>number of published elements</th>\n      <th>duration for specific-preprocessing (in ms)</th>\n    </tr>\n  </thead>\n  <tbody>\n    <tr>\n      <th>5568</th>\n      <td>2022-04-09T15:54:40Z</td>\n      <td>133726</td>\n      <td>113485</td>\n      <td>123035</td>\n      <td>37252</td>\n      <td>107862</td>\n    </tr>\n    <tr>\n      <th>947</th>\n      <td>2022-04-06T09:49:45Z</td>\n      <td>6099</td>\n      <td>3046</td>\n      <td>43293</td>\n      <td>16</td>\n      <td>0</td>\n    </tr>\n    <tr>\n      <th>1762</th>\n      <td>2022-04-06T23:35:29Z</td>\n      <td>209676</td>\n      <td>153283</td>\n      <td>29431</td>\n      <td>2606</td>\n      <td>65</td>\n    </tr>\n    <tr>\n      <th>4073</th>\n      <td>2022-04-08T14:37:35Z</td>\n      <td>25872</td>\n      <td>4689</td>\n      <td>25302</td>\n      <td>106</td>\n      <td>4</td>\n    </tr>\n    <tr>\n      <th>1216</th>\n      <td>2022-04-06T14:22:11Z</td>\n      <td>5889</td>\n      <td>2707</td>\n      <td>25148</td>\n      <td>33</td>\n      <td>2</td>\n    </tr>\n    <tr>\n      <th>...</th>\n      <td>...</td>\n      <td>...</td>\n      <td>...</td>\n      <td>...</td>\n      <td>...</td>\n      <td>...</td>\n    </tr>\n    <tr>\n      <th>6408</th>\n      <td>2022-04-10T06:05:19Z</td>\n      <td>500</td>\n      <td>0</td>\n      <td>55</td>\n      <td>0</td>\n      <td>0</td>\n    </tr>\n    <tr>\n      <th>4716</th>\n      <td>2022-04-09T01:28:26Z</td>\n      <td>565</td>\n      <td>0</td>\n      <td>51</td>\n      <td>0</td>\n      <td>0</td>\n    </tr>\n    <tr>\n      <th>7520</th>\n      <td>2022-04-11T00:51:27Z</td>\n      <td>255</td>\n      <td>0</td>\n      <td>47</td>\n      <td>7</td>\n      <td>2</td>\n    </tr>\n    <tr>\n      <th>7500</th>\n      <td>2022-04-11T00:31:16Z</td>\n      <td>417</td>\n      <td>0</td>\n      <td>44</td>\n      <td>1</td>\n      <td>0</td>\n    </tr>\n    <tr>\n      <th>481</th>\n      <td>2022-04-06T01:57:14Z</td>\n      <td>56</td>\n      <td>0</td>\n      <td>40</td>\n      <td>24</td>\n      <td>1</td>\n    </tr>\n  </tbody>\n</table>\n<p>9951 rows × 6 columns</p>\n</div>"
     },
     "execution_count": 79,
     "metadata": {},
     "output_type": "execute_result"
    }
   ],
   "source": [
    "statistics[\"Search\"].sort_values([DURATION_COMPLETE], ascending=False)"
   ],
   "metadata": {
    "collapsed": false,
    "pycharm": {
     "name": "#%%\n"
    }
   }
  },
  {
   "cell_type": "code",
   "execution_count": 80,
   "outputs": [
    {
     "data": {
      "text/plain": "                        ID  \\\n947   2022-04-06T09:49:45Z   \n1762  2022-04-06T23:35:29Z   \n4073  2022-04-08T14:37:35Z   \n1216  2022-04-06T14:22:11Z   \n1432  2022-04-06T18:00:57Z   \n...                    ...   \n6408  2022-04-10T06:05:19Z   \n4716  2022-04-09T01:28:26Z   \n7500  2022-04-11T00:31:16Z   \n7520  2022-04-11T00:51:27Z   \n481   2022-04-06T01:57:14Z   \n\n      number of incoming elements (reloaded + change-file)  \\\n947                                                6099      \n1762                                             209676      \n4073                                              25872      \n1216                                               5889      \n1432                                               9724      \n...                                                 ...      \n6408                                                500      \n4716                                                565      \n7500                                                417      \n7520                                                255      \n481                                                  56      \n\n      number of reloaded nodes  duration for preprocessing (in ms)  \\\n947                       3046                               43320   \n1762                    153283                               29408   \n4073                      4689                               25350   \n1216                      2707                               25176   \n1432                      4770                               22180   \n...                        ...                                 ...   \n6408                         0                                  57   \n4716                         0                                  55   \n7500                         0                                  52   \n7520                         0                                  47   \n481                          0                                  41   \n\n      number of published elements  \\\n947                           1559   \n1762                          1929   \n4073                          5337   \n1216                          1615   \n1432                          2821   \n...                            ...   \n6408                            28   \n4716                             1   \n7500                            14   \n7520                             8   \n481                             10   \n\n      duration for specific-preprocessing (in ms)  \n947                                            27  \n1762                                           42  \n4073                                           52  \n1216                                           28  \n1432                                           62  \n...                                           ...  \n6408                                            2  \n4716                                            3  \n7500                                            1  \n7520                                            2  \n481                                             2  \n\n[9951 rows x 6 columns]",
      "text/html": "<div>\n<style scoped>\n    .dataframe tbody tr th:only-of-type {\n        vertical-align: middle;\n    }\n\n    .dataframe tbody tr th {\n        vertical-align: top;\n    }\n\n    .dataframe thead th {\n        text-align: right;\n    }\n</style>\n<table border=\"1\" class=\"dataframe\">\n  <thead>\n    <tr style=\"text-align: right;\">\n      <th></th>\n      <th>ID</th>\n      <th>number of incoming elements (reloaded + change-file)</th>\n      <th>number of reloaded nodes</th>\n      <th>duration for preprocessing (in ms)</th>\n      <th>number of published elements</th>\n      <th>duration for specific-preprocessing (in ms)</th>\n    </tr>\n  </thead>\n  <tbody>\n    <tr>\n      <th>947</th>\n      <td>2022-04-06T09:49:45Z</td>\n      <td>6099</td>\n      <td>3046</td>\n      <td>43320</td>\n      <td>1559</td>\n      <td>27</td>\n    </tr>\n    <tr>\n      <th>1762</th>\n      <td>2022-04-06T23:35:29Z</td>\n      <td>209676</td>\n      <td>153283</td>\n      <td>29408</td>\n      <td>1929</td>\n      <td>42</td>\n    </tr>\n    <tr>\n      <th>4073</th>\n      <td>2022-04-08T14:37:35Z</td>\n      <td>25872</td>\n      <td>4689</td>\n      <td>25350</td>\n      <td>5337</td>\n      <td>52</td>\n    </tr>\n    <tr>\n      <th>1216</th>\n      <td>2022-04-06T14:22:11Z</td>\n      <td>5889</td>\n      <td>2707</td>\n      <td>25176</td>\n      <td>1615</td>\n      <td>28</td>\n    </tr>\n    <tr>\n      <th>1432</th>\n      <td>2022-04-06T18:00:57Z</td>\n      <td>9724</td>\n      <td>4770</td>\n      <td>22180</td>\n      <td>2821</td>\n      <td>62</td>\n    </tr>\n    <tr>\n      <th>...</th>\n      <td>...</td>\n      <td>...</td>\n      <td>...</td>\n      <td>...</td>\n      <td>...</td>\n      <td>...</td>\n    </tr>\n    <tr>\n      <th>6408</th>\n      <td>2022-04-10T06:05:19Z</td>\n      <td>500</td>\n      <td>0</td>\n      <td>57</td>\n      <td>28</td>\n      <td>2</td>\n    </tr>\n    <tr>\n      <th>4716</th>\n      <td>2022-04-09T01:28:26Z</td>\n      <td>565</td>\n      <td>0</td>\n      <td>55</td>\n      <td>1</td>\n      <td>3</td>\n    </tr>\n    <tr>\n      <th>7500</th>\n      <td>2022-04-11T00:31:16Z</td>\n      <td>417</td>\n      <td>0</td>\n      <td>52</td>\n      <td>14</td>\n      <td>1</td>\n    </tr>\n    <tr>\n      <th>7520</th>\n      <td>2022-04-11T00:51:27Z</td>\n      <td>255</td>\n      <td>0</td>\n      <td>47</td>\n      <td>8</td>\n      <td>2</td>\n    </tr>\n    <tr>\n      <th>481</th>\n      <td>2022-04-06T01:57:14Z</td>\n      <td>56</td>\n      <td>0</td>\n      <td>41</td>\n      <td>10</td>\n      <td>2</td>\n    </tr>\n  </tbody>\n</table>\n<p>9951 rows × 6 columns</p>\n</div>"
     },
     "execution_count": 80,
     "metadata": {},
     "output_type": "execute_result"
    }
   ],
   "source": [
    "statistics[\"Routing\"].sort_values([DURATION_COMPLETE], ascending=False)"
   ],
   "metadata": {
    "collapsed": false,
    "pycharm": {
     "name": "#%%\n"
    }
   }
  },
  {
   "cell_type": "code",
   "execution_count": 143,
   "outputs": [
    {
     "data": {
      "text/plain": "<Figure size 360x360 with 1 Axes>",
      "image/png": "[encoded data removed]"
     },
     "metadata": {
      "needs_background": "light"
     },
     "output_type": "display_data"
    }
   ],
   "source": [
    "FILTER_ATTRIBUTE = DURATION_FOR_SPECIFIC_FILTERING\n",
    "STATISTIC = \"Routing\"\n",
    "search_filtered_dataframe = (\n",
    "    statistics[STATISTIC][statistics[STATISTIC][FILTER_ATTRIBUTE] < 10000].sort_values([NUM_OF_PUBLISHED_ELEMENTS]))\n",
    "\n",
    "import matplotlib.pyplot as plt\n",
    "from scipy.stats import linregress\n",
    "\n",
    "x = search_filtered_dataframe[NUM_OF_PUBLISHED_ELEMENTS]\n",
    "y = search_filtered_dataframe[FILTER_ATTRIBUTE]\n",
    "\n",
    "plt.figure(figsize=(5, 5))\n",
    "plt.plot(x, y, 'o', label=\"original data\")\n",
    "plt.title(STATISTIC)\n",
    "# plt.axhline(y=60000, color='r')\n",
    "plt.xlabel(NUM_OF_PUBLISHED_ELEMENTS)\n",
    "plt.ylabel(FILTER_ATTRIBUTE)\n",
    "plt.legend()\n",
    "plt.grid()\n",
    "plt.show()"
   ],
   "metadata": {
    "collapsed": false,
    "pycharm": {
     "name": "#%%\n"
    }
   }
  },
  {
   "cell_type": "code",
   "execution_count": 192,
   "outputs": [
    {
     "data": {
      "text/plain": "<Figure size 1440x360 with 3 Axes>",
      "image/png": "[encoded data removed]"
     },
     "metadata": {
      "needs_background": "light"
     },
     "output_type": "display_data"
    }
   ],
   "source": [
    "FILTER_ATTRIBUTE = DURATION_FOR_SPECIFIC_FILTERING\n",
    "X_AXIS_VALUE = NUM_OF_PUBLISHED_ELEMENTS\n",
    "search_dataframe = statistics[\"Search\"]\n",
    "search_filtered_dataframe = search_dataframe[search_dataframe[FILTER_ATTRIBUTE] < 100000].sort_values([X_AXIS_VALUE])\n",
    "search_x = search_filtered_dataframe[X_AXIS_VALUE]\n",
    "search_y = search_filtered_dataframe[FILTER_ATTRIBUTE]\n",
    "\n",
    "routing_dataframe = statistics[\"Routing\"]\n",
    "routing_filtered_dataframe = routing_dataframe[routing_dataframe[FILTER_ATTRIBUTE] < 6000].sort_values([X_AXIS_VALUE])\n",
    "routing_x = routing_filtered_dataframe[X_AXIS_VALUE]\n",
    "routing_y = routing_filtered_dataframe[FILTER_ATTRIBUTE]\n",
    "\n",
    "all_dataframe = statistics[\"All\"]\n",
    "all_filtered_dataframe = all_dataframe[all_dataframe[FILTER_ATTRIBUTE] < 6000].sort_values([X_AXIS_VALUE])\n",
    "all_x = all_filtered_dataframe[X_AXIS_VALUE]\n",
    "all_y = all_filtered_dataframe[FILTER_ATTRIBUTE]\n",
    "\n",
    "fig, axs = plt.subplots(1, 3, figsize=(20, 5), constrained_layout=True)\n",
    "\n",
    "axs[0].plot(all_x, all_y, 'o')\n",
    "axs[0].set_title(\"all\")\n",
    "axs[0].grid()\n",
    "axs[1].plot(search_x, search_y, 'o')\n",
    "axs[1].set_title(\"search\")\n",
    "axs[1].grid()\n",
    "axs[2].plot(routing_x, routing_y, 'o')\n",
    "axs[2].set_title(\"routing\")\n",
    "axs[2].grid()\n",
    "\n",
    "for ax in axs.flat:\n",
    "    ax.set(xlabel=X_AXIS_VALUE, ylabel=FILTER_ATTRIBUTE)"
   ],
   "metadata": {
    "collapsed": false,
    "pycharm": {
     "name": "#%%\n"
    }
   }
  },
  {
   "cell_type": "code",
   "execution_count": 185,
   "outputs": [
    {
     "data": {
      "text/plain": "<Figure size 1440x360 with 3 Axes>",
      "image/png": "[encoded data removed]"
     },
     "metadata": {
      "needs_background": "light"
     },
     "output_type": "display_data"
    }
   ],
   "source": [
    "FILTER_ATTRIBUTE = DURATION_COMPLETE\n",
    "X_AXIS_VALUE = NUM_OF_INCOMING_ELEMENTS\n",
    "search_dataframe = statistics[\"Search\"]\n",
    "search_filtered_dataframe = search_dataframe[search_dataframe[FILTER_ATTRIBUTE] > -1].sort_values([X_AXIS_VALUE])\n",
    "search_x = search_filtered_dataframe[X_AXIS_VALUE]\n",
    "search_y = search_filtered_dataframe[FILTER_ATTRIBUTE]\n",
    "\n",
    "routing_dataframe = statistics[\"Routing\"]\n",
    "routing_filtered_dataframe = routing_dataframe[routing_dataframe[FILTER_ATTRIBUTE] > -1].sort_values([X_AXIS_VALUE])\n",
    "routing_x = routing_filtered_dataframe[X_AXIS_VALUE]\n",
    "routing_y = routing_filtered_dataframe[FILTER_ATTRIBUTE]\n",
    "\n",
    "all_dataframe = statistics[\"All\"]\n",
    "all_filtered_dataframe = all_dataframe[all_dataframe[FILTER_ATTRIBUTE] > -1].sort_values([X_AXIS_VALUE])\n",
    "all_x = all_filtered_dataframe[X_AXIS_VALUE]\n",
    "all_y = all_filtered_dataframe[FILTER_ATTRIBUTE]\n",
    "\n",
    "fig, axs = plt.subplots(1, 3, figsize=(20, 5), constrained_layout=True)\n",
    "\n",
    "axs[0].plot(all_x, all_y, 'o')\n",
    "axs[0].set_title(\"all\")\n",
    "axs[0].grid()\n",
    "axs[1].plot(search_x, search_y, 'o')\n",
    "axs[1].set_title(\"search\")\n",
    "axs[1].grid()\n",
    "axs[2].plot(routing_x, routing_y, 'o')\n",
    "axs[2].set_title(\"routing\")\n",
    "axs[2].grid()\n",
    "\n",
    "for ax in axs.flat:\n",
    "    ax.set(xlabel=X_AXIS_VALUE, ylabel=FILTER_ATTRIBUTE)"
   ],
   "metadata": {
    "collapsed": false,
    "pycharm": {
     "name": "#%%\n"
    }
   }
  }
 ],
 "metadata": {
  "kernelspec": {
   "display_name": "Python 3",
   "language": "python",
   "name": "python3"
  },
  "language_info": {
   "codemirror_mode": {
    "name": "ipython",
    "version": 2
   },
   "file_extension": ".py",
   "mimetype": "text/x-python",
   "name": "python",
   "nbconvert_exporter": "python",
   "pygments_lexer": "ipython2",
   "version": "2.7.6"
  }
 },
 "nbformat": 4,
 "nbformat_minor": 0
}